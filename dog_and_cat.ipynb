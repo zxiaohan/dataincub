{
 "cells": [
  {
   "cell_type": "markdown",
   "metadata": {},
   "source": [
    "<h1>CNN model for dog and cat classification </h1>\n",
    "<p> 1) A convolution neural network model built on pytorch. The model is parametrized, which is easy for optimization. </p>\n",
    "\n",
    "<p> 2) Use Cifar10 as a test. The model reaches 92% accuracy on test data. The state of art accuracy is 97%. So there is still a lot to improve. The image data can be augumented by allowing crop and rotation. </p>\n",
    "\n"
   ]
  },
  {
   "cell_type": "code",
   "execution_count": null,
   "metadata": {},
   "outputs": [],
   "source": [
    "\n",
    "import torch\n",
    "import torch.nn as nn\n",
    "from torch.autograd import Variable\n",
    "import torch.nn.functional as F\n",
    "\n",
    "class CNN(nn.Module):\n",
    "    def __init__(self, n_modules, n_convols,  n_targets, in_channels, out_channels, kernel_size, stride, padding):\n",
    "        super(CNN, self).__init__()\n",
    "\n",
    "        blocks = []\n",
    "        for i in range(n_modules):\n",
    "            in_c = int((i>0)* (out_channels * (2**(i-1))) + (i==0)*in_channels)\n",
    "            out_c = int(out_channels * (2**i))\n",
    "            for j in range(n_convols):\n",
    "                blocks.append(nn.Conv2d((j==0)*in_c + (j>0)*out_c, out_c, kernel_size, stride, padding))\n",
    "                blocks.append(nn.BatchNorm2d(out_c))\n",
    "                blocks.append(nn.ReLU())\n",
    "            blocks.append(nn.Dropout2d(p=0.1))\n",
    "            blocks.append(nn.MaxPool2d(2))\n",
    "\n",
    "        self.module = nn.Sequential( *blocks )\n",
    "        print(self.module)\n",
    "        self.out = nn.Linear(out_c, n_targets)\n",
    "\n",
    "\n",
    "    def forward(self, x):\n",
    "        x = self.module(x)\n",
    "        x = x.view(x.size(0), x.size(1), -1)\n",
    "        x = x.mean(2)\n",
    "        x = x.view(x.size(0),-1)\n",
    "        output = self.out(x)\n",
    "        output = F.log_softmax(output)\n",
    "        return output\n"
   ]
  },
  {
   "cell_type": "markdown",
   "metadata": {},
   "source": [
    "<p> The function that trains CNN model.  </p>\n",
    "<p> train_loader, test_loader needs to be defined and passed in, which depends on specific data sets. The explanations of some tuning parameters are as follows: </p>\n",
    "<p> N_EPOCH : number of train epoch </p>\n",
    "<p> BATCH_SIZE  </p>\n",
    "<p> LR : Initial learning rate </p>\n",
    "<p> nnfile = 'cnn.pkl' : saved cnn model file for restart use </p>\n",
    "<p> nnparamfile = 'cnn.pkl.params' : saved cnn parameter file for restart use </p>\n",
    "<p> use_cuda = torch.cuda.is_available() : for large scale training, pytorch turns on gpu mode </p>"
   ]
  },
  {
   "cell_type": "code",
   "execution_count": null,
   "metadata": {},
   "outputs": [],
   "source": [
    "'''\n",
    "Factors that affect test accuracy:\n",
    "1) Number of conv layer in each module.\n",
    "2) Data augumentation. Implemented in cifar10.\n",
    "3) Adaptive learning rate. \n",
    "4) Batch_size. \n",
    "5) Weigth_decay of SGD. \n",
    "6) Max pooling instead of fully connected layer.\n",
    "7) Dropout layer.\n",
    "8) Batch normalization.\n",
    "9) Filter thickness.  \n",
    "10) Adam vs SGD. \n",
    "\n",
    "To do: \n",
    "    write a dataloader for arbitrary data\n",
    "    problem w. utils.progressbar when submit jobs\n",
    "'''\n",
    "\n",
    "import sys\n",
    "import numpy as np\n",
    "import torch\n",
    "import torchvision\n",
    "import torch.nn as nn\n",
    "from torch.autograd import Variable\n",
    "import cnn_models\n",
    "#from utils import progress_bar\n",
    "\n",
    "N_EPOCH = 300\n",
    "BATCH_SIZE = 128 #150\n",
    "LR = 10/100 #Initial learning rate\n",
    "DOWNLOAD_MNIST = False\n",
    "DOWNLOAD_CIFAR10 = False\n",
    "nnfile = 'cnn.pkl' \n",
    "nnparamfile = 'cnn.pkl.params'\n",
    "use_cuda = torch.cuda.is_available()\n",
    "def train_and_save( net, train_loader, test_loader, lr, N_EPOCH, nnfile, nnparamfile):\n",
    "    loss_function = nn.CrossEntropyLoss()\n",
    "    log_train = open('Log_Train_'+str(LR) +'_'+ str(BATCH_SIZE)+'.txt','a')\n",
    "    log_valid = open('Log_Valid_'+str(LR) +'_'+ str(BATCH_SIZE)+'.txt','a')\n",
    "    epoch_id = 0\n",
    "   \n",
    "    for epoch in range(N_EPOCH):\n",
    "        train_loss = 0 \n",
    "        total = 0\n",
    "        correct = 0\n",
    "        if (epoch_id < 1.0/6 *N_EPOCH):\n",
    "            lr = LR\n",
    "        elif (epoch_id < 1.0/3*N_EPOCH):\n",
    "            lr = LR/5.0\n",
    "        elif (epoch_id < 2.0/3*N_EPOCH):\n",
    "            lr = LR/10.0\n",
    "        else:\n",
    "            lr = 0.0028\n",
    "\n",
    "        # train the current epoch\n",
    "        # optimizer = torch.optim.Adam(net.parameters(), lr=lr)\n",
    "        optimizer = torch.optim.SGD(net.parameters(), lr=lr, momentum=0.9, weight_decay=1e-4)\n",
    "        for batch_idx, (x,y) in enumerate(train_loader):\n",
    "            if (use_cuda): \n",
    "                x, y = x.cuda(), y.cuda()\n",
    "\n",
    "            b_x, b_y = Variable(x), Variable(y)\n",
    "            prediction = net(b_x)\n",
    "            loss = loss_function(prediction, b_y)\n",
    "            optimizer.zero_grad()\n",
    "            loss.backward()\n",
    "            optimizer.step()\n",
    "\n",
    "            train_loss += loss.data[0]\n",
    "            _, predicted = torch.max(prediction.data,1)\n",
    "            total += b_y.size(0)\n",
    "            correct += predicted.eq(b_y.data).cpu().sum()\n",
    "\n",
    "        buff = 'epoch =' + str(epoch)+ ': train_loss: ' + str(train_loss/(batch_idx+1)) + ': train accuracy: ' + str(100.*correct/total)+'\\n'\n",
    "        log_train.write(str(100*correct/total))\n",
    "        print(buff) \n",
    "\n",
    "        # test the current epoch\n",
    "        net.eval() # switch net to 'test' mode\n",
    "        test_loss = 0\n",
    "        correct = 0\n",
    "        total = 0\n",
    "        loss_function = nn.CrossEntropyLoss()\n",
    "        for batch_idx, (inputs, targets) in enumerate(test_loader):\n",
    "            if use_cuda:\n",
    "                inputs, targets = inputs.cuda(), targets.cuda()\n",
    "            inputs, targets = Variable(inputs, volatile=True), Variable(targets)\n",
    "            outputs = net(inputs)\n",
    "            loss = loss_function(outputs, targets)\n",
    "            test_loss += loss.data[0]\n",
    "            _, predicted = torch.max(outputs.data, 1)\n",
    "            total += targets.size(0)\n",
    "            correct += predicted.eq(targets.data).cpu().sum()\n",
    "            \n",
    "        buff = 'epoch =' + str(epoch)+ ': test accuracy: ' + str(100.*correct/total)+'\\n'\n",
    "        print(buff)\n",
    "       \n",
    "        net.train() # switch net to 'train' mode\n",
    "        epoch_id += 1\n",
    "\n",
    "#   end of training\n",
    "    torch.save(net, nnfile+'.'+str(LR)+'.'+str(BATCH_SIZE))\n",
    "    torch.save(net.state_dict(), nnparamfile+'.'+str(LR)+'.'+str(BATCH_SIZE))\n",
    "    log_train.close()\n",
    "    log_valid.close()\n",
    "    return net\n",
    "\n"
   ]
  },
  {
   "cell_type": "markdown",
   "metadata": {},
   "source": [
    "<p> The main function that defined and manipulate original data. </p>"
   ]
  },
  {
   "cell_type": "code",
   "execution_count": null,
   "metadata": {
    "collapsed": true
   },
   "outputs": [],
   "source": [
    "# train to reconginize CIFAR10 data\n",
    "def main(argv):\n",
    "    train_data = cifar10.CIFAR10(\n",
    "        root = '../cifar10',\n",
    "        train = True,\n",
    "        download=DOWNLOAD_CIFAR10\n",
    "    )\n",
    "    train_loader = torch.utils.data.DataLoader(dataset = train_data, batch_size=BATCH_SIZE,\n",
    "                                               shuffle = True, num_workers = 2)\n",
    "    test_data = cifar10.CIFAR10(root='../cifar10/', train=False, download=False)\n",
    "    test_loader = torch.utils.data.DataLoader(dataset = test_data, batch_size = 100, shuffle=True, num_workers=2)\n",
    "\n",
    "#   n_modules,   n_convols,  n_targets,\n",
    "#   in_channels, out_channels,\n",
    "#   kernel_size, stride, padding\n",
    "    net = cnn_models.CNN(4,3,10,3,32,3,1,1)\n",
    "    if use_cuda:\n",
    "        net.cuda()\n",
    "        net = torch.nn.DataParallel(net, device_ids=range(torch.cuda.device_count()))\n",
    "        torch.backends.cudnn.enabled=True\n",
    "\n",
    "    net = train_and_save( net, train_loader, test_loader, LR, N_EPOCH, nnfile, nnparamfile)\n",
    "\n",
    "if __name__ == \"__main__\":\n",
    "    main(sys.argv[1:])\n",
    "\n"
   ]
  },
  {
   "cell_type": "markdown",
   "metadata": {},
   "source": [
    "<p> Process output accuracy for both test and train.  </p>\n",
    "<p> It is found that test accuracy can reach up to 92% but cannot increase further by tuning parameters. There is still margin for the test accuracy to improve.  </p>"
   ]
  },
  {
   "cell_type": "code",
   "execution_count": 56,
   "metadata": {},
   "outputs": [
    {
     "data": {
      "image/png": "[encoded data removed]",
      "text/plain": [
       "<matplotlib.figure.Figure at 0x110bef320>"
      ]
     },
     "metadata": {},
     "output_type": "display_data"
    }
   ],
   "source": [
    "import matplotlib.pyplot as plt\n",
    "import numpy as np\n",
    "\n",
    "with open (\"Log_Train_0.1_128.txt\", \"r\") as myfile:\n",
    "    data = myfile.read()\n",
    "\n",
    "strs = data.split('.')\n",
    "#print(strs)\n",
    "\n",
    "list2 = []\n",
    "i = 0\n",
    "for number in strs:\n",
    "    if number == '28\\n':\n",
    "        break\n",
    "#    if i%2 == 0:\n",
    "#        list2.append(strs[i] + '.' + strs[i+1][0:2])\n",
    "#    else:\n",
    "    list2.append(strs[i][-2:] + '.' + strs[i+1][0:2])\n",
    "    i += 1\n",
    "        \n",
    "#print(list2)\n",
    "#print(np.linspace(0,len(list2), len(list2)+1))  \n",
    "plt.plot(np.linspace(1,len(list2),len(list2)), np.array(list2),'*-')\n",
    "plt.ylabel('Train accuracy (\\%)')\n",
    "plt.xlabel('Epoch number')\n",
    "plt.show()\n",
    "#train_data = np.array(list2)\n"
   ]
  },
  {
   "cell_type": "code",
   "execution_count": 57,
   "metadata": {},
   "outputs": [
    {
     "data": {
      "image/png": "[encoded data removed]",
      "text/plain": [
       "<matplotlib.figure.Figure at 0x110bdbb00>"
      ]
     },
     "metadata": {},
     "output_type": "display_data"
    }
   ],
   "source": [
    "import matplotlib.pyplot as plt\n",
    "import numpy as np\n",
    "\n",
    "with open (\"auto_10_128.pbs.o11777\", \"r\") as myfile:\n",
    "    data = myfile.read()\n",
    "\n",
    "strs = data.split('\\n')\n",
    "#print(strs)\n",
    "\n",
    "test_acc = []\n",
    "for line in strs:\n",
    "    s = line.split(':')\n",
    "    if (len(s) == 3):\n",
    "        test_acc.append(line.split(':')[2])\n",
    "\n",
    "plt.plot(np.linspace(1,len(test_acc),len(test_acc)), np.array(test_acc),'*-')\n",
    "plt.ylabel('Test accuracy (\\%)')\n",
    "plt.xlabel('Epoch number')\n",
    "plt.show()\n",
    "\n",
    "\n"
   ]
  },
  {
   "cell_type": "code",
   "execution_count": null,
   "metadata": {
    "collapsed": true
   },
   "outputs": [],
   "source": []
  },
  {
   "cell_type": "code",
   "execution_count": null,
   "metadata": {
    "collapsed": true
   },
   "outputs": [],
   "source": []
  }
 ],
 "metadata": {
  "kernelspec": {
   "display_name": "Python 3",
   "language": "python",
   "name": "python3"
  },
  "language_info": {
   "codemirror_mode": {
    "name": "ipython",
    "version": 3
   },
   "file_extension": ".py",
   "mimetype": "text/x-python",
   "name": "python",
   "nbconvert_exporter": "python",
   "pygments_lexer": "ipython3",
   "version": "3.6.1"
  }
 },
 "nbformat": 4,
 "nbformat_minor": 2
}
